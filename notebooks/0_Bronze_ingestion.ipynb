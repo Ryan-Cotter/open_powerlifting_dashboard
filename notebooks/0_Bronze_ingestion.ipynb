{
 "cells": [
  {
   "cell_type": "markdown",
   "id": "0",
   "metadata": {},
   "source": [
    "- # Bronze layer\n",
    "    - ## import to delta lake\n",
    "        - import from API to csv overwrite"
   ]
  },
  {
   "cell_type": "code",
   "execution_count": null,
   "id": "1",
   "metadata": {},
   "outputs": [],
   "source": [
    "from pyspark.sql import SparkSession\n",
    "from pyspark.sql.functions import col, to_date\n",
    "\n",
    "# Schema optional because of inferSchema=True\n",
    "#schema = StructType([\n",
    "#    StructField(\"Name\", StringType(), True),\n",
    "#    StructField(\"Sex\", StringType(), True),\n",
    "#])\n",
    "spark = SparkSession.builder \\\n",
    "    .appName(\"Nightly CSV ETL\") \\\n",
    "    .getOrCreate()\n",
    "    \n",
    "file_input = \"../data/openpowerlifting-latest/openpowerlifting-2025-05-24/openpowerlifting-2025-05-24-d228cac8.csv\"\n",
    "\n",
    "def run_etl(input_path: str, output_path: str):\n",
    "\n",
    "    df = spark.read.csv(input_path, header=True, inferSchema=True)\n",
    "            \n",
    "    df_clean = df.na.drop(\"any\").withColumn(\"date\", to_date(col(\"date\"), \"yyyy-MM-dd\"))\n",
    "\n",
    "    return df_clean\n",
    "\n",
    "clean_sample = run_etl(file_input, \"../data/openpowerlifting-latest/openpowerlifting-2025-05-24/sample_data.csv\")"
   ]
  },
  {
   "cell_type": "code",
   "execution_count": null,
   "id": "2",
   "metadata": {},
   "outputs": [],
   "source": [
    "clean_sample.write.mode(\"overwrite\").parquet(\"../data/staging/cleaned_sample.parquet\")"
   ]
  },
  {
   "cell_type": "code",
   "execution_count": null,
   "id": "3",
   "metadata": {},
   "outputs": [],
   "source": []
  }
 ],
 "metadata": {
  "kernelspec": {
   "display_name": "Python 3 (ipykernel)",
   "language": "python",
   "name": "python3"
  },
  "language_info": {
   "codemirror_mode": {
    "name": "ipython",
    "version": 3
   },
   "file_extension": ".py",
   "mimetype": "text/x-python",
   "name": "python",
   "nbconvert_exporter": "python",
   "pygments_lexer": "ipython3",
   "version": "3.12.3"
  }
 },
 "nbformat": 4,
 "nbformat_minor": 5
}
