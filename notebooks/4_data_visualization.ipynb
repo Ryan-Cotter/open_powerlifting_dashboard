{
 "cells": [
  {
   "cell_type": "code",
   "execution_count": null,
   "id": "0",
   "metadata": {},
   "outputs": [],
   "source": [
    "from pyspark.sql import SparkSession\n",
    "import pandas as pd\n",
    "from delta import configure_spark_with_delta_pip\n",
    "\n",
    "builder = SparkSession.builder \\\n",
    "    .appName(\"Data_visualization\") \\\n",
    "    .config(\"spark.sql.extensions\", \"io.delta.sql.DeltaSparkSessionExtension\") \\\n",
    "    .config(\"spark.sql.catalog.spark_catalog\", \"org.apache.spark.sql.delta.catalog.DeltaCatalog\")\n",
    "\n",
    "\n",
    "spark = configure_spark_with_delta_pip(builder).getOrCreate()\n",
    "    "
   ]
  },
  {
   "cell_type": "markdown",
   "id": "1",
   "metadata": {},
   "source": [
    "# Optimize"
   ]
  },
  {
   "cell_type": "markdown",
   "id": "2",
   "metadata": {},
   "source": [
    "data_to_visualize = spark.read.csv(\"../data/cleaned_lifts_future_delta/\")\n",
    "sample = data_to_visualize.limit(10000).toPandas()\n",
    "\n",
    "from delta.tables import DeltaTable\n",
    "DeltaTable.optimize(spark, data_to_visualize)"
   ]
  },
  {
   "cell_type": "code",
   "execution_count": null,
   "id": "3",
   "metadata": {},
   "outputs": [],
   "source": [
    "from delta.tables import DeltaTable\n",
    "\n",
    "df_loaded = spark.read.format(\"delta\").load(\"../data/cleaned_lifts_future_delta/\")\n",
    "df_loaded.repartition(1).write.format(\"delta\").mode(\"overwrite\").option(\"overwriteSchema\", True).save(\"../data/cleaned_lifts_future_delta/\")\n"
   ]
  },
  {
   "cell_type": "markdown",
   "id": "4",
   "metadata": {},
   "source": [
    "# Test"
   ]
  },
  {
   "cell_type": "code",
   "execution_count": null,
   "id": "5",
   "metadata": {},
   "outputs": [],
   "source": [
    "import os\n",
    "print(os.listdir(\"../data/cleaned_lifts_future_delta/\"))\n"
   ]
  },
  {
   "cell_type": "markdown",
   "id": "6",
   "metadata": {},
   "source": [
    "# Load sample for plotting"
   ]
  },
  {
   "cell_type": "code",
   "execution_count": null,
   "id": "7",
   "metadata": {},
   "outputs": [],
   "source": [
    "df = spark.read.format(\"delta\").load(\"../data/cleaned_lifts_future_delta/\")\n",
    "sample_df = df.limit(10000).toPandas()"
   ]
  },
  {
   "cell_type": "markdown",
   "id": "8",
   "metadata": {},
   "source": [
    "# Basic plotting with Matplotlib or Seaborn"
   ]
  },
  {
   "cell_type": "code",
   "execution_count": null,
   "id": "9",
   "metadata": {},
   "outputs": [],
   "source": [
    "import matplotlib.pyplot as plt\n",
    "import seaborn as sns\n",
    "\n",
    "plt.figure(figsize=(10, 6))\n",
    "sns.histplot(sample_df[\"Best3DeadliftKg\"].dropna(), bins=10, kde=True)\n",
    "plt.title(\"Distribution of Best Bench Press (kg)\")\n",
    "plt.xlabel(\"Best Bench (kg)\")\n",
    "plt.ylabel(\"Count\")\n",
    "plt.show()\n"
   ]
  },
  {
   "cell_type": "markdown",
   "id": "10",
   "metadata": {},
   "source": [
    "# Trends over time"
   ]
  },
  {
   "cell_type": "code",
   "execution_count": null,
   "id": "11",
   "metadata": {},
   "outputs": [],
   "source": [
    "sample_df[\"year\"] = pd.to_datetime(sample_df[\"date\"]).dt.year\n",
    "sns.boxplot(data=sample_df, x=\"year\", y=\"Best3SquatKg\")\n",
    "plt.xticks(rotation=45)\n",
    "plt.title(\"Squat Performance Over Years\")\n",
    "plt.show()\n"
   ]
  },
  {
   "cell_type": "markdown",
   "id": "12",
   "metadata": {},
   "source": [
    "# Group analysis"
   ]
  },
  {
   "cell_type": "code",
   "execution_count": null,
   "id": "13",
   "metadata": {},
   "outputs": [],
   "source": [
    "sns.boxplot(data=sample_df, x=\"Sex\", y=\"TotalKg\")"
   ]
  },
  {
   "cell_type": "markdown",
   "id": "14",
   "metadata": {},
   "source": [
    "# DuckDB simple query"
   ]
  },
  {
   "cell_type": "code",
   "execution_count": null,
   "id": "15",
   "metadata": {},
   "outputs": [],
   "source": [
    "import duckdb\n",
    "\n",
    "duckdb.query(\"SELECT 42, 'hello duckdb'\")"
   ]
  },
  {
   "cell_type": "code",
   "execution_count": null,
   "id": "16",
   "metadata": {},
   "outputs": [],
   "source": [
    "import pandas as pd\n",
    "\n",
    "df = pd.DataFrame({'x': range(5), 'y': ['a','b','c','d','e']})\n",
    "duckdb.query(\"SELECT * FROM df WHERE x > 2\").to_df()"
   ]
  },
  {
   "cell_type": "code",
   "execution_count": null,
   "id": "17",
   "metadata": {},
   "outputs": [],
   "source": [
    "con = duckdb.connect(\"my_data.duckdb\")\n",
    "con.execute(\"CREATE TABLE people AS SELECT * FROM df\")\n",
    "con.execute(\"SELECT * FROM people\").fetchdf()"
   ]
  },
  {
   "cell_type": "code",
   "execution_count": null,
   "id": "18",
   "metadata": {},
   "outputs": [],
   "source": [
    "duckdb.query(\"SELECT Sex, AVG(TotalKg) FROM sample_df GROUP BY Sex\").df()\n"
   ]
  },
  {
   "cell_type": "code",
   "execution_count": null,
   "id": "19",
   "metadata": {},
   "outputs": [],
   "source": [
    "import duckdb\n",
    "\n",
    "percentiles = [0.0, 0.1, 0.2, 0.3, 0.4, 0.5, 0.6, 0.7, 0.8, 0.9, 1.0]\n",
    "queries = []\n",
    "\n",
    "for p in percentiles:\n",
    "    queries.append(f\"\"\"\n",
    "        SELECT \n",
    "            WeightClassKg, \n",
    "            {p} AS percentile,\n",
    "            quantile_cont(TotalKg, {p}) AS value\n",
    "        FROM sample_df\n",
    "        GROUP BY WeightClassKg\n",
    "        ORDER BY WeightClassKg\n",
    "    \"\"\")\n",
    "\n",
    "# Combine with UNION ALL\n",
    "query = \" UNION ALL \".join(f\"({q})\" for q in queries)\n",
    "result = duckdb.query(query).df()\n",
    "\n",
    "def parse_weight_class(wc):\n",
    "    if wc == \"140+\":\n",
    "        return 165.0\n",
    "    elif wc == \"90+\":\n",
    "        return 105.0\n",
    "    elif wc == \"110+\":\n",
    "        return 120\n",
    "    try:\n",
    "        return float(wc)\n",
    "    except ValueError:\n",
    "        return None  # or use np.nan if you're using NumPy\n",
    "\n",
    "\n",
    "result['WeightClassNumeric'] = result['WeightClassKg'].apply(parse_weight_class)\n",
    "result = result.sort_values(['WeightClassNumeric', 'percentile'])\n",
    "\n",
    "result"
   ]
  },
  {
   "cell_type": "code",
   "execution_count": null,
   "id": "20",
   "metadata": {},
   "outputs": [],
   "source": [
    "plt.figure(figsize=(12, 6))\n",
    "for wc, group in result.groupby('WeightClassKg'):\n",
    "    plt.plot(group['percentile'], group['value'], color=colors[wc])\n",
    "    # Label at the last point\n",
    "    plt.text(\n",
    "        group['percentile'].max() + 0.01,  # a bit right of the line\n",
    "        group['value'].iloc[-1], \n",
    "        wc, \n",
    "        fontsize=8, \n",
    "        color=colors[wc], \n",
    "        verticalalignment='center'\n",
    "    )\n",
    "\n",
    "plt.xlabel('Percentile')\n",
    "plt.ylabel('TotalKg')\n",
    "plt.title('Total Lift by Weight Class and Percentile')\n",
    "plt.tight_layout()\n",
    "plt.show()"
   ]
  },
  {
   "cell_type": "code",
   "execution_count": null,
   "id": "21",
   "metadata": {},
   "outputs": [],
   "source": [
    "import streamlit as st\n",
    "import duckdb\n",
    "import pandas as pd\n",
    "\n"
   ]
  },
  {
   "cell_type": "code",
   "execution_count": null,
   "id": "22",
   "metadata": {},
   "outputs": [],
   "source": []
  },
  {
   "cell_type": "code",
   "execution_count": null,
   "id": "23",
   "metadata": {},
   "outputs": [],
   "source": []
  },
  {
   "cell_type": "code",
   "execution_count": null,
   "id": "24",
   "metadata": {},
   "outputs": [],
   "source": []
  },
  {
   "cell_type": "code",
   "execution_count": null,
   "id": "25",
   "metadata": {},
   "outputs": [],
   "source": []
  },
  {
   "cell_type": "code",
   "execution_count": null,
   "id": "26",
   "metadata": {},
   "outputs": [],
   "source": []
  },
  {
   "cell_type": "code",
   "execution_count": null,
   "id": "27",
   "metadata": {},
   "outputs": [],
   "source": []
  },
  {
   "cell_type": "code",
   "execution_count": null,
   "id": "28",
   "metadata": {},
   "outputs": [],
   "source": []
  }
 ],
 "metadata": {
  "kernelspec": {
   "display_name": "Python 3 (ipykernel)",
   "language": "python",
   "name": "python3"
  },
  "language_info": {
   "codemirror_mode": {
    "name": "ipython",
    "version": 3
   },
   "file_extension": ".py",
   "mimetype": "text/x-python",
   "name": "python",
   "nbconvert_exporter": "python",
   "pygments_lexer": "ipython3",
   "version": "3.12.3"
  }
 },
 "nbformat": 4,
 "nbformat_minor": 5
}
