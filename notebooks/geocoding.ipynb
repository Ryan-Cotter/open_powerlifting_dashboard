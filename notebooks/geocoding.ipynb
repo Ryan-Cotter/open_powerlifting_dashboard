{
 "cells": [
  {
   "cell_type": "markdown",
   "id": "0",
   "metadata": {},
   "source": [
    "# Generate plots using matplotlib"
   ]
  },
  {
   "cell_type": "code",
   "execution_count": null,
   "id": "1",
   "metadata": {},
   "outputs": [],
   "source": [
    "from geopy.geocoders import Nominatim\n",
    "from time import sleep\n",
    "import pandas as pd\n",
    "\n",
    "distinct_locations = clean_sample.select(\"MeetTown\", \"MeetState\", \"MeetCountry\").dropna().dropDuplicates()\n",
    "pandas_distinct_locations = distinct_locations.toPandas()\n",
    "\n",
    "# Initialize geocoder\n",
    "geolocator = Nominatim(user_agent=\"lift-mapper\")\n",
    "\n",
    "# Safe geocoding function that works row-by-row\n",
    "def geocode_safe(row):\n",
    "    try:\n",
    "        location = geolocator.geocode(f\"{row['MeetTown']}, {row['MeetState']}, {row['MeetCountry']}\")\n",
    "        sleep(1)  # avoid rate limits\n",
    "        if location:\n",
    "            return pd.Series([location.latitude, location.longitude])\n",
    "    except:\n",
    "        pass\n",
    "    return pd.Series([None, None])\n",
    "\n",
    "# Apply to DataFrame\n",
    "pandas_distinct_locations[['lat', 'lon']] = pandas_distinct_locations.apply(\n",
    "    geocode_safe,\n",
    "    axis=1\n",
    ")\n"
   ]
  },
  {
   "cell_type": "code",
   "execution_count": null,
   "id": "2",
   "metadata": {},
   "outputs": [],
   "source": []
  },
  {
   "cell_type": "code",
   "execution_count": null,
   "id": "3",
   "metadata": {},
   "outputs": [],
   "source": []
  },
  {
   "cell_type": "code",
   "execution_count": null,
   "id": "4",
   "metadata": {},
   "outputs": [],
   "source": []
  }
 ],
 "metadata": {
  "kernelspec": {
   "display_name": "Python 3 (ipykernel)",
   "language": "python",
   "name": "python3"
  },
  "language_info": {
   "codemirror_mode": {
    "name": "ipython",
    "version": 3
   },
   "file_extension": ".py",
   "mimetype": "text/x-python",
   "name": "python",
   "nbconvert_exporter": "python",
   "pygments_lexer": "ipython3",
   "version": "3.12.3"
  }
 },
 "nbformat": 4,
 "nbformat_minor": 5
}
